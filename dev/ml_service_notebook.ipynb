{
 "cells": [
  {
   "cell_type": "markdown",
   "metadata": {},
   "source": [
    "### Import required modules"
   ]
  },
  {
   "cell_type": "code",
   "execution_count": 2,
   "metadata": {},
   "outputs": [],
   "source": [
    "\n",
    "import requests\n",
    "import threading\n",
    "import subprocess\n",
    "import time\n",
    "\n"
   ]
  },
  {
   "cell_type": "markdown",
   "metadata": {},
   "source": [
    "###  Function to run the Flask server\n"
   ]
  },
  {
   "cell_type": "code",
   "execution_count": 3,
   "metadata": {},
   "outputs": [],
   "source": [
    "def run_flask_app():\n",
    "    subprocess.run([\"python\", \"dev/ml-service.py\"])\n",
    "\n",
    "# Start Flask server in a background thread\n",
    "flask_thread = threading.Thread(target=run_flask_app)\n",
    "flask_thread.daemon = True  # Ensures the thread terminates when the notebook stops\n",
    "flask_thread.start()\n",
    "\n",
    "# Give the server a few seconds to start\n",
    "time.sleep(1)\n"
   ]
  },
  {
   "cell_type": "markdown",
   "metadata": {},
   "source": [
    "### Send a GET request to the /service endpoint"
   ]
  },
  {
   "cell_type": "code",
   "execution_count": 4,
   "metadata": {},
   "outputs": [
    {
     "name": "stdout",
     "output_type": "stream",
     "text": [
      "Response from the server:\n",
      "{'status': 'ML service is running successfully!'}\n"
     ]
    }
   ],
   "source": [
    "# Send a GET request with a 'name' parameter\n",
    "response = requests.get(\"http://127.0.0.1:5001/service\")\n",
    "\n",
    "# Display the server response\n",
    "if response.status_code == 200:\n",
    "    print(\"Response from the server:\")\n",
    "    print(response.json())\n",
    "else:\n",
    "    print(f\"Failed to connect to the server. Status code: {response.status_code}\")\n"
   ]
  },
  {
   "cell_type": "code",
   "execution_count": null,
   "metadata": {},
   "outputs": [],
   "source": []
  }
 ],
 "metadata": {
  "kernelspec": {
   "display_name": "airplanevenve",
   "language": "python",
   "name": "python3"
  },
  "language_info": {
   "codemirror_mode": {
    "name": "ipython",
    "version": 3
   },
   "file_extension": ".py",
   "mimetype": "text/x-python",
   "name": "python",
   "nbconvert_exporter": "python",
   "pygments_lexer": "ipython3",
   "version": "3.13.2"
  }
 },
 "nbformat": 4,
 "nbformat_minor": 2
}
