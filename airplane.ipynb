{
 "cells": [
  {
   "cell_type": "code",
   "execution_count": 7,
   "metadata": {},
   "outputs": [],
   "source": [
    "import numpy as np\n",
    "import pandas as pd\n",
    "pd.set_option('display.max_columns', None) #For displaying all the columns of dataset\n",
    "\n",
    "import matplotlib.pyplot as plt\n",
    "import seaborn as sns\n",
    "sns.set_style('darkgrid')\n",
    "import plotly.express as px\n",
    "\n",
    "import warnings\n",
    "warnings.filterwarnings('ignore')\n",
    "\n",
    "from sklearn.preprocessing import LabelEncoder, StandardScaler\n",
    "from sklearn.model_selection import train_test_split\n",
    "\n",
    "from sklearn.linear_model import LinearRegression\n",
    "from sklearn.neighbors import KNeighborsRegressor\n",
    "from sklearn.tree import DecisionTreeRegressor\n",
    "from sklearn.ensemble import RandomForestRegressor, RandomForestClassifier\n",
    "from sklearn.metrics import mean_absolute_error, mean_squared_error, r2_score\n",
    "\n",
    "\n",
    "from sklearn.model_selection import RandomizedSearchCV\n",
    "import pickle\n",
    "from dev.dev_run_v0 import load_data\n",
    "import joblib\n",
    "from dev.preprocessing import preprocess_data\n",
    "import requests\n",
    "import json\n",
    "\n"
   ]
  },
  {
   "cell_type": "code",
   "execution_count": 8,
   "metadata": {},
   "outputs": [],
   "source": [
    "PREPROCESS_URL = \"http://127.0.0.1:5002/preprocess\"\n",
    "TRAIN_URL = \"http://127.0.0.1:5003/train\"\n",
    "PREDICT_URL = \"http://127.0.0.1:5004/predict\""
   ]
  },
  {
   "cell_type": "markdown",
   "metadata": {},
   "source": [
    "Prepocess data"
   ]
  },
  {
   "cell_type": "code",
   "execution_count": 9,
   "metadata": {},
   "outputs": [
    {
     "name": "stdout",
     "output_type": "stream",
     "text": [
      "Preprocessed Data: {'processed_data': [[2.42006373200812, 0.04030142261776561, 3.0932322705876767, 12, 3]], 'status': 'Success'}\n"
     ]
    }
   ],
   "source": [
    "input_data = {\n",
    "    \"Date_of_Journey\": \"12/03/2024\",\n",
    "    \"Airline\": \"Indigo\",\n",
    "    \"Source\": \"Delhi\",\n",
    "    \"Destination\": \"Mumbai\"\n",
    "}\n",
    "\n",
    "response = requests.post(PREPROCESS_URL, json=input_data)\n",
    "preprocessed_data = response.json()\n",
    "print(\"Preprocessed Data:\", preprocessed_data)\n"
   ]
  },
  {
   "cell_type": "markdown",
   "metadata": {},
   "source": [
    "Train a Model"
   ]
  },
  {
   "cell_type": "code",
   "execution_count": 10,
   "metadata": {},
   "outputs": [
    {
     "name": "stdout",
     "output_type": "stream",
     "text": [
      "Training Status: {'MAE': 1550.9828692286362, 'message': 'Model trained successfully!', 'status': 'Success'}\n"
     ]
    }
   ],
   "source": [
    "response = requests.post(TRAIN_URL)\n",
    "train_status = response.json()\n",
    "print(\"Training Status:\", train_status)"
   ]
  },
  {
   "cell_type": "markdown",
   "metadata": {},
   "source": [
    "Predict Flight Price"
   ]
  },
  {
   "cell_type": "code",
   "execution_count": 11,
   "metadata": {},
   "outputs": [
    {
     "name": "stdout",
     "output_type": "stream",
     "text": [
      "Predicted Price: {'predicted_price': [7740.42831189399], 'status': 'Success'}\n"
     ]
    }
   ],
   "source": [
    "if preprocessed_data[\"status\"] == \"Success\":\n",
    "    prediction_input = {\"processed_data\": preprocessed_data[\"processed_data\"]}\n",
    "    response = requests.post(PREDICT_URL, json=prediction_input)\n",
    "    prediction_result = response.json()\n",
    "    print(\"Predicted Price:\", prediction_result)\n",
    "else:\n",
    "    print(\"Preprocessing Failed:\", preprocessed_data[\"message\"])\n"
   ]
  },
  {
   "cell_type": "code",
   "execution_count": null,
   "metadata": {},
   "outputs": [],
   "source": [
    "print(preprocessed_data)\n"
   ]
  },
  {
   "cell_type": "code",
   "execution_count": null,
   "metadata": {},
   "outputs": [],
   "source": [
    "# df = pd.read_excel('./data/Data_Train.xlsx')\n",
    "\n",
    "# Load the dataset from the defined path\n",
    "df = load_data('Data_Train.xlsx') "
   ]
  },
  {
   "cell_type": "code",
   "execution_count": null,
   "metadata": {},
   "outputs": [],
   "source": [
    "df"
   ]
  },
  {
   "cell_type": "code",
   "execution_count": null,
   "metadata": {},
   "outputs": [],
   "source": [
    "df.info()\n"
   ]
  },
  {
   "cell_type": "code",
   "execution_count": null,
   "metadata": {},
   "outputs": [],
   "source": [
    "def extract_date_hour(dataset, col):\n",
    "    '''This function will create two columns containing Hours and Minutes\n",
    "       extracted from `col` column and then dropped it from the dataset.'''\n",
    "    \n",
    "    dataset[col + '_hour'] = dataset[col].dt.hour\n",
    "    dataset[col + '_minute'] = dataset[col].dt.minute\n",
    "    dataset.drop(col, axis=1, inplace=True)\n",
    "    \n",
    "    return dataset"
   ]
  },
  {
   "cell_type": "code",
   "execution_count": null,
   "metadata": {},
   "outputs": [],
   "source": [
    "# Changing the datatype from object to datetime. \n",
    "df['Date_of_Journey'] = pd.to_datetime(df['Date_of_Journey'])\n",
    "df['Dep_Time']        = pd.to_datetime(df['Dep_Time'])\n",
    "df['Arrival_Time']    = pd.to_datetime(df['Arrival_Time'])\n",
    "\n",
    "\n",
    "#Extracting Day and Month.\n",
    "df['Day']   = df['Date_of_Journey'].dt.day\n",
    "df['Month'] = df['Date_of_Journey'].dt.month\n",
    "df.drop('Date_of_Journey', axis=1, inplace=True)\n",
    "\n",
    "\n",
    "#Extracting Hour and Minute.\n",
    "df = extract_date_hour(df, 'Arrival_Time')\n",
    "df = extract_date_hour(df, 'Dep_Time')"
   ]
  },
  {
   "cell_type": "code",
   "execution_count": null,
   "metadata": {},
   "outputs": [],
   "source": [
    "\n",
    "# Initialize LabelEncoder\n",
    "encoder = LabelEncoder()\n",
    "\n",
    "# Apply LabelEncoder to each categorical feature\n",
    "categorical_cols = ['Airline', 'Source', 'Destination', 'Route', 'Total_Stops', 'Additional_Info']\n",
    "for col in categorical_cols:\n",
    "    df[col] = encoder.fit_transform(df[col])\n",
    "\n",
    "# df = pd.get_dummies(df, columns=categorical_cols, drop_first=True)\n"
   ]
  },
  {
   "cell_type": "code",
   "execution_count": null,
   "metadata": {},
   "outputs": [],
   "source": [
    "df"
   ]
  },
  {
   "cell_type": "code",
   "execution_count": null,
   "metadata": {},
   "outputs": [],
   "source": [
    "duration = list(df['Duration'])\n",
    "for i in range(len(duration)):\n",
    "    if len(duration[i].split(' ')) == 2:\n",
    "        pass\n",
    "    else:\n",
    "        if 'h' in duration[i]:\n",
    "            duration[i]=duration[i] + ' 0m'\n",
    "        else:\n",
    "            duration[i]='0h '+ duration[i]\n",
    "\n",
    "df['Duration'] = duration"
   ]
  },
  {
   "cell_type": "code",
   "execution_count": null,
   "metadata": {},
   "outputs": [],
   "source": [
    "df['Hour']   = df['Duration'].apply(lambda x:x.split(' ')[0][0:-1]).astype('int32')\n",
    "df['Minute'] = df['Duration'].apply(lambda x:x.split(' ')[1][0:-1]).astype('int32')\n",
    "df.drop('Duration', axis=1, inplace=True)"
   ]
  },
  {
   "cell_type": "code",
   "execution_count": null,
   "metadata": {},
   "outputs": [],
   "source": [
    "# Visualize the price distribution using a boxplot\n",
    "plt.figure(figsize=(10, 6))\n",
    "sns.boxplot(x=df['Price'])\n",
    "plt.title(\"Boxplot of Flight Prices\")\n",
    "plt.show()\n",
    "\n",
    "# Visualize the price distribution using a histogram\n",
    "plt.figure(figsize=(10, 6))\n",
    "sns.histplot(df['Price'], bins=50, kde=True)\n",
    "plt.title(\"Distribution of Flight Prices\")\n",
    "plt.show()"
   ]
  },
  {
   "cell_type": "code",
   "execution_count": null,
   "metadata": {},
   "outputs": [],
   "source": [
    "# Select the numerical columns\n",
    "numerical_cols = ['Arrival_Time_hour', 'Arrival_Time_minute', 'Dep_Time_hour', \n",
    "                  'Dep_Time_minute', 'Hour', 'Minute', 'Day', 'Month']\n",
    "\n",
    "# Plot boxplots for each numerical feature\n",
    "plt.figure(figsize=(15, 10))\n",
    "for i, col in enumerate(numerical_cols, 1):\n",
    "    plt.subplot(3, 3, i)\n",
    "    sns.boxplot(x=df[col])\n",
    "    plt.title(f\"Boxplot of {col}\")\n",
    "\n",
    "plt.tight_layout()\n",
    "plt.show()\n"
   ]
  },
  {
   "cell_type": "code",
   "execution_count": null,
   "metadata": {},
   "outputs": [],
   "source": [
    "long_flights = df[df['Hour'] > 20]\n",
    "print(f\"Number of long flights (duration > 20 hours): {len(long_flights)}\")\n",
    "\n",
    "# Show sample long-haul flights\n",
    "long_flights[['Airline', 'Route', 'Total_Stops', 'Hour', 'Minute', 'Price']].head()"
   ]
  },
  {
   "cell_type": "markdown",
   "metadata": {},
   "source": [
    "## Splitting and Scaling Data"
   ]
  },
  {
   "cell_type": "code",
   "execution_count": null,
   "metadata": {},
   "outputs": [],
   "source": [
    "# Define the feature matrix and target\n",
    "X = df.drop(['Price'], axis=1)  # Assuming 'Price' is the target variable\n",
    "y = df['Price']\n",
    "\n",
    "# Train-test split\n",
    "X_train, X_test, y_train, y_test = train_test_split(X, y, test_size=0.2, random_state=42)\n",
    "\n",
    "# Scale the data\n",
    "scaler = StandardScaler()\n",
    "X_train_scaled = scaler.fit_transform(X_train)\n",
    "X_test_scaled = scaler.transform(X_test)\n",
    "\n",
    "print(\"Scaling completed successfully!\")"
   ]
  },
  {
   "cell_type": "code",
   "execution_count": null,
   "metadata": {},
   "outputs": [],
   "source": [
    "# Train the RandomForest model\n",
    "regressor = RandomForestRegressor(random_state=42)\n",
    "regressor.fit(X_train_scaled, y_train)\n",
    "\n",
    "# Predictions on the test set\n",
    "y_pred = regressor.predict(X_test_scaled)"
   ]
  },
  {
   "cell_type": "code",
   "execution_count": null,
   "metadata": {},
   "outputs": [],
   "source": [
    "# Evaluate the model\n",
    "mae = mean_absolute_error(y_test, y_pred)\n",
    "mse = mean_squared_error(y_test, y_pred)\n",
    "r2 = r2_score(y_test, y_pred)\n",
    "\n",
    "print(\"Model Evaluation Metrics:\")\n",
    "print(f\"Mean Absolute Error (MAE): {mae}\")\n",
    "print(f\"Mean Squared Error (MSE): {mse}\")\n",
    "print(f\"R² Score: {r2}\")"
   ]
  },
  {
   "cell_type": "markdown",
   "metadata": {},
   "source": [
    "## Airfare Prediction (Classification)\n"
   ]
  },
  {
   "cell_type": "code",
   "execution_count": null,
   "metadata": {},
   "outputs": [],
   "source": [
    "X_airfare = df.drop(['Price'], axis=1)\n",
    "y_airfare = df['Price']\n",
    "\n",
    "X_train_airfare, X_test_airfare, y_train_airfare, y_test_airfare = train_test_split(X_airfare, y_airfare, test_size=0.2, random_state=42)\n",
    "\n",
    "airfare_model = RandomForestClassifier()\n",
    "airfare_model.fit(X_train_airfare, y_train_airfare)"
   ]
  },
  {
   "cell_type": "code",
   "execution_count": null,
   "metadata": {},
   "outputs": [],
   "source": []
  }
 ],
 "metadata": {
  "kernelspec": {
   "display_name": "airplanevenve",
   "language": "python",
   "name": "python3"
  },
  "language_info": {
   "codemirror_mode": {
    "name": "ipython",
    "version": 3
   },
   "file_extension": ".py",
   "mimetype": "text/x-python",
   "name": "python",
   "nbconvert_exporter": "python",
   "pygments_lexer": "ipython3",
   "version": "3.13.2"
  }
 },
 "nbformat": 4,
 "nbformat_minor": 2
}
